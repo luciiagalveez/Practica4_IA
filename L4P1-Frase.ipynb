{
 "cells": [
  {
   "cell_type": "markdown",
   "metadata": {},
   "source": [
    "# Práctica 1 - AG frases en castellano con mutaciones\n",
    "\n",
    "## Preparación de entorno\n",
    "\n",
    "### Importar librerias de entorno"
   ]
  },
  {
   "cell_type": "markdown",
   "metadata": {},
   "source": [
    "Lucía Gálvez, Álvaro Chavarri, Daniel Ojeda, y Carlos Vega"
   ]
  },
  {
   "cell_type": "code",
   "execution_count": 22,
   "metadata": {},
   "outputs": [],
   "source": [
    "# from __future__ import division\n",
    "import numpy as np\n",
    "import pandas as pd\n",
    "import math\n",
    "import random\n",
    "\n",
    "# from matplotlib import pyplot as plt\n",
    "# from matplotlib import patches as patches\n",
    "# from mpl_toolkits.mplot3d import Axes3D\n",
    "# from IPython.core.display import HTML\n",
    "# from sklearn.preprocessing import MinMaxScaler\n",
    "# from sklearn.decomposition import PCA\n",
    "# from sklearn.model_selection import train_test_split\n",
    "\n",
    "import collections\n",
    "import sklearn.metrics\n",
    "import sys"
   ]
  },
  {
   "cell_type": "markdown",
   "metadata": {},
   "source": [
    "### Preparación de los datos"
   ]
  },
  {
   "cell_type": "code",
   "execution_count": 28,
   "metadata": {},
   "outputs": [
    {
     "name": "stdout",
     "output_type": "stream",
     "text": [
      "\n",
      "Frase: ANIMULA VAGULA BLANDULA\n",
      "\n"
     ]
    },
    {
     "name": "stderr",
     "output_type": "stream",
     "text": [
      "C:\\Users\\luga_\\Anaconda3\\lib\\site-packages\\ipykernel_launcher.py:7: DeprecationWarning: The binary mode of fromstring is deprecated, as it behaves surprisingly on unicode inputs. Use frombuffer instead\n",
      "  import sys\n"
     ]
    }
   ],
   "source": [
    "target = \"ANIMULA VAGULA BLANDULA\"\n",
    "npob = 1000\n",
    "pc = 0.6\n",
    "pm = 0.01\n",
    "ngen = 1000\n",
    "DNA_length = len(target)\n",
    "target_ASCII = np.fromstring(target, dtype=np.int8)\n",
    "ASCII_bound = [32, 126]\n",
    "\n",
    "\n",
    "  \n",
    "print(\"\\nFrase: %s\\n\"%(target)) #Mostrar la frase"
   ]
  },
  {
   "cell_type": "markdown",
   "metadata": {},
   "source": [
    "#FALTA\n",
    "poner limite de caracteres\n",
    "contar espacios en blanco\n",
    "mirar variables\n",
    "que cumpla todo"
   ]
  },
  {
   "cell_type": "code",
   "execution_count": 31,
   "metadata": {},
   "outputs": [
    {
     "name": "stdout",
     "output_type": "stream",
     "text": [
      "the best DNA:  NG-{ybm[\\]y/{^v)LAC'U2W\n",
      "the best DNA:  NG`{ybm[\\]y^Liv)LAM'UPW\n",
      "the best DNA:  |8B</=NDVU3UYc4BYkw)(LC\n",
      "the best DNA:  -NI\"UPAsVUBM*uPPY!NH8&C\n",
      "the best DNA:  =%DMOLpS,iGiMRpFLAIDgL*\n",
      "the best DNA:  AN(.*cAb`ATI(-hALBND?=N\n",
      "the best DNA:  =(vMO`pb,iGUMR:PLANDgL*\n",
      "the best DNA:  h>&MxLp Vi[dI9 ML\"7{ULA\n",
      "the best DNA:  INIMU`A V^GfIA:MPx>98$A\n",
      "the best DNA:  KKeM5cx y(GULAPALAS\"ULW\n",
      "the best DNA:  =NIMULA V^=j9R M]!>DULA\n",
      "the best DNA:  2NnMO=A /<3ULAh<LANDUL(\n",
      "the best DNA:  2NnMO=A /<3ULAh<LANDUL(\n",
      "the best DNA:   NIMbLA ,A?OLchX5VNDULA\n",
      "the best DNA:   NIMbLA ,A?OLchX5VNDULA\n",
      "the best DNA:  I%IMUUAe%ATU(AhVLANDULW\n",
      "the best DNA:  ANIM=LA VALULAP\"L[NuU/>\n",
      "the best DNA:  AEIAeLA V<GiLAv\"LANDULA\n",
      "the best DNA:  AEIAeLA V<GiLAv\"LANDULA\n",
      "the best DNA:  AEIAeLA V<GiLAv\"LANDULA\n",
      "the best DNA:  FNI.OLA VAGU)pp\"LANDULA\n",
      "the best DNA:  ANnMeLA V}GOLAh\"fANDULA\n",
      "the best DNA:  A5IMU A V<eU7A FLANDULA\n",
      "the best DNA:  ANIM=LA VAGU)w]\"L]NDULA\n",
      "the best DNA:  ANIMULA VAG+Nw +LANaULA\n",
      "the best DNA:  ANIAULA VAeU:A FLANDULA\n",
      "the best DNA:  A%IMULA VAGULAAVLANuULA\n",
      "the best DNA:  I5IMULA VAGU*A`BLA@DULA\n",
      "the best DNA:   GIMULA VAGU*A BLANDULA\n",
      "the best DNA:   GIMULA VAGU*A BLANDULA\n",
      "the best DNA:  ANIMGL8 VAGUNA]\"LANDULA\n",
      "the best DNA:  ANIMGLA V<GULAP<LANDULA\n",
      "the best DNA:  ANIMUL8 VAGUxA/kLANDULA\n",
      "the best DNA:  ANIMOLA VAGU*Ah+LANDULA\n",
      "the best DNA:  ANIMULA VAGiLA BL&NrULA\n",
      "the best DNA:  ANIMUL8 VAGU:Ah+LANDULA\n",
      "the best DNA:  ANIMOLA VAGULAhkLANDULA\n",
      "the best DNA:  AfIMULA VAGOLA BLrNDULA\n",
      "the best DNA:  AfIMULA VAGOLA BLrNDULA\n",
      "the best DNA:  ANIMULA VAGULAd1LAND!LA\n",
      "the best DNA:  ANIMULA VAG+LA BLANDULA\n",
      "the best DNA:  ANIMULA VAGULA/BLAND!7A\n",
      "the best DNA:  ANIMULA VAGULA/BLAND!7A\n",
      "the best DNA:  ANIMULA VAGU7A/+LANDULA\n",
      "the best DNA:  ANXMULA VAGULA/BLANDULA\n",
      "the best DNA:  ANIMULA VAGU{A/VLANDULA\n",
      "the best DNA:  ADIMULA VAGULAYBLyNDULA\n",
      "the best DNA:  ANILULAnVAGULA <LANDULA\n",
      "the best DNA:  ANIMULA VA?ULAv\"LANDULA\n",
      "the best DNA:  ANIMULA VAGOLA \"LAND'LA\n",
      "the best DNA:  ANIlULA VAGULAYBLANDULA\n",
      "the best DNA:  ANIMULA VAG+LA \"LANDULA\n",
      "the best DNA:  ADIMULA VAG+LA BLANDULA\n",
      "the best DNA:  ANIMULA VAG#LA VLANDULA\n",
      "the best DNA:  ANIMfLA VAGULA VLANDULA\n",
      "the best DNA:  ANIMULA VAGULA \"LANDULA\n",
      "the best DNA:  ANIMULA VAGULAvVLANDULA\n",
      "the best DNA:  ANIMULA VAGULA VLANDULA\n",
      "the best DNA:  ANIMULA VAG+LA BLANDULA\n",
      "the best DNA:  ANIMULA VAGULA VLANDULA\n",
      "the best DNA:  ANIMULA V\"GULA VLANDULA\n",
      "the best DNA:  ANIMULA VAGULA &LANDULA\n",
      "the best DNA:  ANIMULA VAGULA BLANDdLA\n",
      "the best DNA:  ANIMULA VAGULA BLANDdLA\n",
      "the best DNA:  ANIMULA VAGULA kLANDULA\n",
      "the best DNA:  ANIMULA VAGULA kLANDULA\n",
      "the best DNA:  ANIMULA VAGULA VLANDULA\n",
      "the best DNA:  ANIMULA VAGULA BLANDULA\n",
      "Ya ha encontrado la frase:  ANIMULA VAGULA BLANDULA\n",
      "Ha llegado en el:  67\n"
     ]
    }
   ],
   "source": [
    "class GA(object):\n",
    "    def __init__(self):\n",
    "        #generar individuos aleatorioa\n",
    "        self.populations = np.random.randint(ASCII_bound[0],\n",
    "                                             ASCII_bound[1],\n",
    "                                             (npob, DNA_length))\n",
    " \n",
    "                 # Traducir ADN a la cadena ASCII correspondiente\n",
    " \n",
    "    def DNA_decode(self, DNA):\n",
    "        DNA_str = ''\n",
    "        for item in DNA:\n",
    "            DNA_str = DNA_str + chr(item)\n",
    "        return DNA_str\n",
    " \n",
    "    #calcular su fitness\n",
    "    def calculate_fitness(self):\n",
    "        return np.sum((self.populations == target_ASCII), axis=1)\n",
    " \n",
    "    #calculo probabilidad de seleccion\n",
    "    def selection(self):\n",
    "        fitness = self.calculate_fitness()\n",
    "        population_id = np.random.choice(np.arange(npob), (npob,),\n",
    "                                         p=fitness / np.sum(fitness))\n",
    "        new_populations = []\n",
    "        for i in range(npob):\n",
    "            new_populations.append(self.populations[population_id[i]])\n",
    "        self.populations = np.array(new_populations)\n",
    " \n",
    "    #crossover\n",
    "    def crossover(self):\n",
    "        population_copy = self.populations.copy()\n",
    "        for i in range(npob):\n",
    "            if random.random() < pc:\n",
    "                                 # Encuentra individuos que se aparean con i\n",
    "                crossover_object = i\n",
    "                                 # Evitar que individuos seleccionados al azar o yo\n",
    "                while crossover_object == i:\n",
    "                    crossover_object = random.randint(0, DNA_length-1)\n",
    "                crossover_points = np.random.randint(0, 2, DNA_length).astype(np.bool)\n",
    "                self.populations[i][crossover_points] = population_copy[i][crossover_points]\n",
    "                self.populations[i][~crossover_points] = population_copy[crossover_object][~crossover_points]\n",
    " \n",
    "    #mutacion\n",
    "    def mutation(self):\n",
    "        for i in range(npob):\n",
    "            for point in range(DNA_length):\n",
    "                if random.random() < pm:\n",
    "                    self.populations[i][point] = random.randint(ASCII_bound[0], ASCII_bound[1])\n",
    " \n",
    "    def evolve(self):\n",
    "        self.selection()\n",
    "        self.crossover()\n",
    "        self.mutation()\n",
    " \n",
    " \n",
    "ga = GA()\n",
    "for step in range(ngen):\n",
    "         # Encuentra el ADN con mayor aptitud\n",
    "    best_DNA = ga.populations[np.argmax(ga.calculate_fitness())]\n",
    "    \n",
    "    print('the best DNA: ', ga.DNA_decode(best_DNA))\n",
    "    ga.evolve()\n",
    "    if(ga.DNA_decode(best_DNA) == target):\n",
    "        print('Ya ha encontrado la frase: ', ga.DNA_decode(best_DNA))\n",
    "        print('Ha llegado en el: ', step)\n",
    "        break"
   ]
  },
  {
   "cell_type": "code",
   "execution_count": null,
   "metadata": {},
   "outputs": [],
   "source": []
  },
  {
   "cell_type": "code",
   "execution_count": null,
   "metadata": {},
   "outputs": [],
   "source": []
  },
  {
   "cell_type": "code",
   "execution_count": null,
   "metadata": {},
   "outputs": [],
   "source": []
  },
  {
   "cell_type": "code",
   "execution_count": null,
   "metadata": {},
   "outputs": [],
   "source": []
  },
  {
   "cell_type": "code",
   "execution_count": null,
   "metadata": {},
   "outputs": [],
   "source": []
  },
  {
   "cell_type": "code",
   "execution_count": null,
   "metadata": {},
   "outputs": [],
   "source": []
  },
  {
   "cell_type": "code",
   "execution_count": null,
   "metadata": {},
   "outputs": [],
   "source": []
  },
  {
   "cell_type": "code",
   "execution_count": null,
   "metadata": {},
   "outputs": [],
   "source": []
  },
  {
   "cell_type": "code",
   "execution_count": null,
   "metadata": {},
   "outputs": [],
   "source": []
  },
  {
   "cell_type": "code",
   "execution_count": null,
   "metadata": {},
   "outputs": [],
   "source": []
  },
  {
   "cell_type": "code",
   "execution_count": null,
   "metadata": {},
   "outputs": [],
   "source": []
  },
  {
   "cell_type": "code",
   "execution_count": null,
   "metadata": {},
   "outputs": [],
   "source": []
  },
  {
   "cell_type": "code",
   "execution_count": null,
   "metadata": {},
   "outputs": [],
   "source": []
  },
  {
   "cell_type": "code",
   "execution_count": null,
   "metadata": {},
   "outputs": [],
   "source": []
  },
  {
   "cell_type": "code",
   "execution_count": null,
   "metadata": {},
   "outputs": [],
   "source": []
  },
  {
   "cell_type": "code",
   "execution_count": null,
   "metadata": {},
   "outputs": [],
   "source": []
  },
  {
   "cell_type": "code",
   "execution_count": null,
   "metadata": {},
   "outputs": [],
   "source": []
  },
  {
   "cell_type": "code",
   "execution_count": null,
   "metadata": {},
   "outputs": [],
   "source": []
  },
  {
   "cell_type": "code",
   "execution_count": null,
   "metadata": {},
   "outputs": [],
   "source": []
  },
  {
   "cell_type": "code",
   "execution_count": null,
   "metadata": {},
   "outputs": [],
   "source": []
  },
  {
   "cell_type": "code",
   "execution_count": null,
   "metadata": {},
   "outputs": [],
   "source": []
  },
  {
   "cell_type": "code",
   "execution_count": null,
   "metadata": {},
   "outputs": [],
   "source": []
  },
  {
   "cell_type": "code",
   "execution_count": null,
   "metadata": {},
   "outputs": [],
   "source": []
  },
  {
   "cell_type": "code",
   "execution_count": null,
   "metadata": {},
   "outputs": [],
   "source": []
  },
  {
   "cell_type": "code",
   "execution_count": null,
   "metadata": {},
   "outputs": [],
   "source": []
  },
  {
   "cell_type": "code",
   "execution_count": null,
   "metadata": {},
   "outputs": [],
   "source": []
  },
  {
   "cell_type": "code",
   "execution_count": null,
   "metadata": {},
   "outputs": [],
   "source": []
  },
  {
   "cell_type": "code",
   "execution_count": null,
   "metadata": {},
   "outputs": [],
   "source": []
  },
  {
   "cell_type": "code",
   "execution_count": null,
   "metadata": {},
   "outputs": [],
   "source": []
  },
  {
   "cell_type": "code",
   "execution_count": null,
   "metadata": {},
   "outputs": [],
   "source": []
  },
  {
   "cell_type": "code",
   "execution_count": null,
   "metadata": {},
   "outputs": [],
   "source": []
  },
  {
   "cell_type": "code",
   "execution_count": null,
   "metadata": {},
   "outputs": [],
   "source": []
  },
  {
   "cell_type": "code",
   "execution_count": null,
   "metadata": {},
   "outputs": [],
   "source": []
  },
  {
   "cell_type": "code",
   "execution_count": null,
   "metadata": {},
   "outputs": [],
   "source": []
  },
  {
   "cell_type": "code",
   "execution_count": null,
   "metadata": {},
   "outputs": [],
   "source": []
  },
  {
   "cell_type": "code",
   "execution_count": null,
   "metadata": {},
   "outputs": [],
   "source": []
  }
 ],
 "metadata": {
  "kernelspec": {
   "display_name": "Python 3",
   "language": "python",
   "name": "python3"
  },
  "language_info": {
   "codemirror_mode": {
    "name": "ipython",
    "version": 3
   },
   "file_extension": ".py",
   "mimetype": "text/x-python",
   "name": "python",
   "nbconvert_exporter": "python",
   "pygments_lexer": "ipython3",
   "version": "3.7.3"
  }
 },
 "nbformat": 4,
 "nbformat_minor": 2
}
